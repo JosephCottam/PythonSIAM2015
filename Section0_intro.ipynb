{
 "cells": [
  {
   "cell_type": "markdown",
   "metadata": {},
   "source": [
    "<div align=\"center\">\n",
    "<h1>\n",
    "Python @ SIAM 2015\n",
    "</h1>\n",
    "<div width=1px height=100px>\n",
    "</div>\n",
    "<h4>\n",
    "March 15, 2015\n",
    "</h4>\n",
    "</div>"
   ]
  },
  {
   "cell_type": "markdown",
   "metadata": {},
   "source": [
    "# Getting Started #\n",
    "\n",
    "**Three paths:**\n",
    "\n",
    "1. Watch the slides\n",
    "2. Follow along statically\n",
    "3. Follow along interactively"
   ]
  },
  {
   "cell_type": "markdown",
   "metadata": {},
   "source": [
    "# Path 1: Watch the slides #\n",
    "\n",
    "1. Sit back and relax\n",
    "2. Done!"
   ]
  },
  {
   "cell_type": "markdown",
   "metadata": {},
   "source": [
    "# Path 2: Follow along statically #\n",
    "\n",
    "Open in your web browser:\n",
    "# https://github.com/JosephCottam/PythonVIS2014 #\n",
    "\n",
    "**Scroll down on the page.**\n",
    "\n",
    "**Click the \"Section X\" links to the static notebooks as needed.**"
   ]
  },
  {
   "cell_type": "markdown",
   "metadata": {},
   "source": [
    "# Path 3: Follow along interactively #\n",
    "\n",
    "Our setup involves using a virtual machine to ease the install process\n",
    "because eveything will be prepackaged right from the start,\n",
    "and launched after you start the VM.\n",
    "\n",
    "We have provided VirtualBox to be able to run the virtual machine,\n",
    "but other virtualization systems (VMWare, libvirt/qemu, etc.) should\n",
    "be able to run the images. The virtual machine is packaged in a OVA\n",
    "(Open Virtualization Format) for easy installation on your machine.\n",
    "\n",
    "At the tutorial, we will provide instructions to view the static\n",
    "web versions that we will be presenting, if you do not wish to install\n",
    "the virtual machine and software.\n",
    "\n",
    "## The virtual machine and software is located on the USB stick that came with your VIS materials. ##\n",
    "\n",
    "## The rest of the materials, are downloaded from the internet to VM, or copied off of USB drives that we will have on hand, to the VM. ##\n",
    "\n",
    "## If you cannot find your VIS USB stick, we have several USB drives with the VM and materials that we will share. ##\n",
    "\n",
    "Step One: Install VirtualBox\n",
    "----------------------------\n",
    "\n",
    "Several installers are provided for Win-64, Win-32, OSX-64, Ubuntu-64,\n",
    "and Ubuntu-32. For other flavors of Linux, typically you can acquire\n",
    "VirtualBox through the system's package manager, otherwise it can\n",
    "be found at http://virtualbox.org\n",
    "\n",
    "Open the installer and go through the default installation to install \n",
    "VirtualBox on your computer.\n",
    "\n",
    "\n",
    "Step Two: Open the Virtual Machine\n",
    "-----------------------------------------\n",
    "\n",
    "Start VirtualBox, and in the main menu, go to \"File->Import Appliance\"\n",
    "\n",
    "Open the \"pyvis.ova\" that is provided on this USB drive. Continue\n",
    "through the default options for the virtual machine.\n",
    "\n",
    "This will unpack and install the virtual machine on your computer.\n",
    "\n",
    "\n",
    "Step Three: Launch the Virtual Machine\n",
    "--------------------------------------\n",
    "\n",
    "In VirtualBox, in the virtual machine lists, open the new \"pyvis\" virtual \n",
    "machine.  This will start Arch Linux in a virtual machine on your computer.\n",
    "\n",
    "It will automatically launch into an graphical session with two open\n",
    "terminals and a ipython notebook session.\n",
    "\n",
    "In case you happen to need it, the default user is \"pyvis\" with a \n",
    "password of \"pyvis\". It has sudo access, and the root password is \"pyvis\".\n",
    "\n",
    "\n",
    "Step Four: Copy the tutorial materials\n",
    "--------------------------------------\n",
    "\n",
    "Assuming you are connected to the internet, run \"get-internet\"\n",
    "from the terminal, which should be open in one of the windows.\n",
    "\n",
    "```\n",
    "$ get-internet\n",
    "```\n",
    "\n",
    "## In the case you are not connected to the internet or unable to download the materials, we will have several USB drives with the tutorial materials on hand. ##\n",
    "\n",
    "In that case, after inserting the USB drive and mounting it in\n",
    "the virtual machine, run \"get-usb\" from the terminal.\n",
    "\n",
    "```\n",
    "$ get-usb\n",
    "```\n",
    "\n",
    "If you happen to be running VirtualBox on a host Linux machine,\n",
    "you may need to add yourself to the \"vboxusers\" group to allow the VM\n",
    "to have USB access.\n",
    "\n",
    "In both cases, they will copy the materials needed to continue with\n",
    "the tutorial.\n",
    "\n",
    "\n",
    "Step Five: You're Ready!\n",
    "------------------------\n",
    "\n",
    "If all went well, a window should have launched in the browser on the VM,\n",
    "showing the ipython notebook interface.\n",
    "\n",
    "\n",
    "Notes\n",
    "-----\n",
    "\n",
    "*All tutorial materials (except for the VM) will be available afterwards on github at: http://github.com/JosephCottam/PythonVIS2014*\n",
    " \n",
    "**If you want the VM, contact Jon Woodring (woodring-at-lanl-dot-gov), and I will send you a link for download via email.**"
   ]
  },
  {
   "cell_type": "markdown",
   "metadata": {},
   "source": [
    "# 3 Reasons why I like Python #"
   ]
  },
  {
   "cell_type": "markdown",
   "metadata": {},
   "source": [
    "# 1. Everything just works #\n",
    "\n",
    "## This is the result of a grad school project I wrote back in 2000-ish. (Computational geometry.) #\n",
    "\n",
    "![881 project](881.png)\n",
    "\n",
    "# It still works. #"
   ]
  },
  {
   "cell_type": "markdown",
   "metadata": {},
   "source": [
    "# 2. import antigravity #\n",
    "\n",
    "![I wrote 20 short programs in Python yesterday.  It was wonderful.  Perl, I'm leaving you.](python.png)\n",
    "\n",
    "# If there's something you need, someone has likely created a Python package for it already. #"
   ]
  },
  {
   "cell_type": "markdown",
   "metadata": {},
   "source": [
    "# 3. IPython + Matplotlib + Numpy + SciPy + Pandas + VTK = Amazing #\n",
    "\n",
    "<h3>\n",
    "<p>\n",
    "Everything in this tutorial was created with these Python tools.\n",
    "<p>\n",
    "An honorable mention goes to Cython, which makes it really easy to call C code directly from Python\n",
    "<p>\n",
    "It is so easy to do anything. It's kind of functional, it's kind of procedural, it's all around fun.\n",
    "<p>\n",
    "I have written volume renderers, high-dimensional visualizations, analysis tools, web servers, benchmarks, parallel processing, data manipulation, demonstrations, etc. all in Python.\n",
    "<p>\n",
    "Premature optimization is the downfall of coding productivity. There is no good reason to start with C/C++ when 95% of the time in Visualization and Analysis our bottleneck is I/O. If you need to make it go fast, find your bottlenecks, and optimize LATER not at the start.\n",
    "</h3>"
   ]
  }
 ],
 "metadata": {
  "kernelspec": {
   "display_name": "Python 2",
   "language": "python",
   "name": "python2"
  },
  "language_info": {
   "codemirror_mode": {
    "name": "ipython",
    "version": 2
   },
   "file_extension": ".py",
   "mimetype": "text/x-python",
   "name": "python",
   "nbconvert_exporter": "python",
   "pygments_lexer": "ipython2",
   "version": "2.7.9"
  }
 },
 "nbformat": 4,
 "nbformat_minor": 0
}

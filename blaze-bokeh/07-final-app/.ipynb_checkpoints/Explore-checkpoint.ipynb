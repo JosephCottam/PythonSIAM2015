{
 "metadata": {
  "name": "",
  "signature": "sha256:7ffc3e5e2296248a901826146f6d4a85294591dd9eadac0ba6eff0f875eb0282"
 },
 "nbformat": 3,
 "nbformat_minor": 0,
 "worksheets": [
  {
   "cells": [
    {
     "cell_type": "code",
     "collapsed": false,
     "input": [
      "import blaze as bz\n",
      "import pandas as pd\n",
      "import numpy as np\n",
      "from into import into\n",
      "from bokeh.plotting import *\n"
     ],
     "language": "python",
     "metadata": {},
     "outputs": []
    },
    {
     "cell_type": "code",
     "collapsed": false,
     "input": [
      "output_notebook()"
     ],
     "language": "python",
     "metadata": {},
     "outputs": []
    },
    {
     "cell_type": "code",
     "collapsed": false,
     "input": [
      "db = bz.Data('sqlite:///../lahman2013.sqlite')\n",
      "db.dshape"
     ],
     "language": "python",
     "metadata": {},
     "outputs": []
    },
    {
     "cell_type": "code",
     "collapsed": false,
     "input": [
      "list(db.Salaries.teamID.distinct())"
     ],
     "language": "python",
     "metadata": {},
     "outputs": []
    },
    {
     "cell_type": "code",
     "collapsed": false,
     "input": [
      "r = bz.compute(db.Salaries[\"teamID\"].distinct())\n",
      "into(pd.DataFrame, r)"
     ],
     "language": "python",
     "metadata": {},
     "outputs": []
    },
    {
     "cell_type": "code",
     "collapsed": false,
     "input": [
      "result = bz.by(db.Salaries.teamID, avg=db.Salaries.salary.mean(), \n",
      "                                   max=db.Salaries.salary.max(), \n",
      "                                   ratio=db.Salaries.salary.max() / db.Salaries.salary.min()\n",
      "                ).sort('ratio', ascending=False)\n",
      "df = into(pd.DataFrame, result)"
     ],
     "language": "python",
     "metadata": {},
     "outputs": []
    },
    {
     "cell_type": "code",
     "collapsed": false,
     "input": [
      "df"
     ],
     "language": "python",
     "metadata": {},
     "outputs": []
    },
    {
     "cell_type": "code",
     "collapsed": false,
     "input": [
      "df = df.sort('avg')\n",
      "source = ColumnDataSource(df)\n",
      "p = figure(x_range=list(df[\"teamID\"]))\n",
      "p.scatter(x=\"teamID\", y=\"avg\", source=source)\n",
      "show(p)"
     ],
     "language": "python",
     "metadata": {},
     "outputs": []
    },
    {
     "cell_type": "code",
     "collapsed": false,
     "input": [
      "df = df.sort('avg')\n",
      "source = ColumnDataSource(df)\n",
      "p = figure(x_range=list(df[\"teamID\"]))\n",
      "p.scatter(x=\"teamID\", y=\"avg\", source=source)\n",
      "p.xaxis.major_label_orientation = np.pi/3\n",
      "\n",
      "show(p)"
     ],
     "language": "python",
     "metadata": {},
     "outputs": []
    },
    {
     "cell_type": "code",
     "collapsed": false,
     "input": [
      "df = df.sort('avg')\n",
      "source = ColumnDataSource(df)\n",
      "s1 = figure(x_range=list(df[\"teamID\"]))\n",
      "s1.scatter(x=\"teamID\", y=\"avg\", source=source)\n",
      "s1.xaxis.major_label_orientation = np.pi/3\n",
      "\n",
      "s2 = figure(x_range=list(df[\"teamID\"]))\n",
      "s2.scatter(x=\"teamID\", y=\"ratio\", source=source)\n",
      "s2.xaxis.major_label_orientation = np.pi/3\n",
      "\n",
      "p = gridplot([[s1, s2]])\n",
      "show(p)"
     ],
     "language": "python",
     "metadata": {},
     "outputs": []
    },
    {
     "cell_type": "code",
     "collapsed": false,
     "input": [
      "TOOLS = \"pan,wheel_zoom,box_zoom,reset,save,box_select,lasso_select\"\n",
      "\n",
      "df = df.sort('avg')\n",
      "source = ColumnDataSource(df)\n",
      "s1 = figure(x_range=list(df[\"teamID\"]), tools=TOOLS)\n",
      "s1.scatter(x=\"teamID\", y=\"avg\", source=source)\n",
      "s1.xaxis.major_label_orientation = np.pi/3\n",
      "\n",
      "s2 = figure(x_range=list(df[\"teamID\"]), tools=TOOLS)\n",
      "s2.scatter(x=\"teamID\", y=\"ratio\", source=source)\n",
      "s2.xaxis.major_label_orientation = np.pi/3\n",
      "\n",
      "p = gridplot([[s1],[s2]])\n",
      "show(p)"
     ],
     "language": "python",
     "metadata": {},
     "outputs": []
    },
    {
     "cell_type": "code",
     "collapsed": false,
     "input": [
      "db.Salaries.dshape"
     ],
     "language": "python",
     "metadata": {},
     "outputs": []
    },
    {
     "cell_type": "code",
     "collapsed": false,
     "input": [
      "db.Salaries[db.Salaries.yearID == 2012]"
     ],
     "language": "python",
     "metadata": {},
     "outputs": []
    },
    {
     "cell_type": "code",
     "collapsed": false,
     "input": [
      "#r = bz.compute(db.Salaries[db.Salaries.yearID == 2012])\n",
      "#df = into(pd.DataFrame, r)\n",
      "df = into(pd.DataFrame, db.Salaries)\n",
      "df = df[df[\"teamID\"] == \"LAA\"]\n",
      "df = df[df[\"yearID\"] == 2012]\n",
      "df"
     ],
     "language": "python",
     "metadata": {},
     "outputs": []
    },
    {
     "cell_type": "code",
     "collapsed": false,
     "input": [
      "TOOLS = \"pan,wheel_zoom,box_zoom,reset,save,box_select,lasso_select\"\n",
      "\n",
      "source = ColumnDataSource(df)\n",
      "p = figure(x_range=list(df[\"playerID\"]), tools=TOOLS)\n",
      "p.scatter(x=\"playerID\", y=\"salary\", source=source)\n",
      "p.xaxis.major_label_orientation = np.pi/3\n",
      "\n",
      "show(p)"
     ],
     "language": "python",
     "metadata": {},
     "outputs": []
    },
    {
     "cell_type": "code",
     "collapsed": false,
     "input": [
      "TOOLS = \"pan,wheel_zoom,box_zoom,reset,save,box_select,lasso_select\"\n",
      "\n",
      "df = df.sort('salary')\n",
      "source = ColumnDataSource(df)\n",
      "p = figure(x_range=list(df[\"playerID\"]), tools=TOOLS)\n",
      "p.scatter(x=\"playerID\", y=\"salary\", source=source)\n",
      "p.xaxis.major_label_orientation = np.pi/3\n",
      "\n",
      "show(p)"
     ],
     "language": "python",
     "metadata": {},
     "outputs": []
    },
    {
     "cell_type": "code",
     "collapsed": false,
     "input": [],
     "language": "python",
     "metadata": {},
     "outputs": []
    }
   ],
   "metadata": {}
  }
 ]
}
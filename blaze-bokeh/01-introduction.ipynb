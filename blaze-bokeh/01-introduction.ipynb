{
 "metadata": {
  "name": "",
  "signature": "sha256:adf019d6a5e82e3ce2bef18691564ef0e1f6b420a83cff754fb8f0213388b0d0"
 },
 "nbformat": 3,
 "nbformat_minor": 0,
 "worksheets": [
  {
   "cells": [
    {
     "cell_type": "markdown",
     "metadata": {},
     "source": [
      "<img src=\"images/continuum_analytics_logo.png\" \n",
      "                                alt=\"Continuum Logo\",\n",
      "                                align=\"right\",\n",
      "                                width=\"30%\">,\n",
      "\n",
      "Introduction to Blaze\n",
      "=====================\n",
      "\n",
      "In this 45 minute tutorial we'll learn how to use Blaze to discover, migrate, and query data living in other databases.  Generally this tutorial will have the following format\n",
      "\n",
      "1. `into` - Move data to database\n",
      "2. `blaze` - Query data in database\n",
      "3. `remote` - What if data and database is on an HDFS-backed cluster?\n",
      "\n",
      "\n",
      "Goal: Accessible, Interactive, Analytic Queries\n",
      "-----------------------------------------------\n",
      "\n",
      "NumPy and Pandas provide accessible, interactive, analytic queries; this is valuable."
     ]
    },
    {
     "cell_type": "code",
     "collapsed": false,
     "input": [
      "import pandas as pd\n",
      "df = pd.read_csv('iris.csv')\n",
      "df.head()"
     ],
     "language": "python",
     "metadata": {},
     "outputs": [
      {
       "html": [
        "<div style=\"max-height:1000px;max-width:1500px;overflow:auto;\">\n",
        "<table border=\"1\" class=\"dataframe\">\n",
        "  <thead>\n",
        "    <tr style=\"text-align: right;\">\n",
        "      <th></th>\n",
        "      <th>sepal_length</th>\n",
        "      <th>sepal_width</th>\n",
        "      <th>petal_length</th>\n",
        "      <th>petal_width</th>\n",
        "      <th>species</th>\n",
        "    </tr>\n",
        "  </thead>\n",
        "  <tbody>\n",
        "    <tr>\n",
        "      <th>0</th>\n",
        "      <td> 5.1</td>\n",
        "      <td> 3.5</td>\n",
        "      <td> 1.4</td>\n",
        "      <td> 0.2</td>\n",
        "      <td> Iris-setosa</td>\n",
        "    </tr>\n",
        "    <tr>\n",
        "      <th>1</th>\n",
        "      <td> 4.9</td>\n",
        "      <td> 3.0</td>\n",
        "      <td> 1.4</td>\n",
        "      <td> 0.2</td>\n",
        "      <td> Iris-setosa</td>\n",
        "    </tr>\n",
        "    <tr>\n",
        "      <th>2</th>\n",
        "      <td> 4.7</td>\n",
        "      <td> 3.2</td>\n",
        "      <td> 1.3</td>\n",
        "      <td> 0.2</td>\n",
        "      <td> Iris-setosa</td>\n",
        "    </tr>\n",
        "    <tr>\n",
        "      <th>3</th>\n",
        "      <td> 4.6</td>\n",
        "      <td> 3.1</td>\n",
        "      <td> 1.5</td>\n",
        "      <td> 0.2</td>\n",
        "      <td> Iris-setosa</td>\n",
        "    </tr>\n",
        "    <tr>\n",
        "      <th>4</th>\n",
        "      <td> 5.0</td>\n",
        "      <td> 3.6</td>\n",
        "      <td> 1.4</td>\n",
        "      <td> 0.2</td>\n",
        "      <td> Iris-setosa</td>\n",
        "    </tr>\n",
        "  </tbody>\n",
        "</table>\n",
        "</div>"
       ],
       "metadata": {},
       "output_type": "pyout",
       "prompt_number": 1,
       "text": [
        "   sepal_length  sepal_width  petal_length  petal_width      species\n",
        "0           5.1          3.5           1.4          0.2  Iris-setosa\n",
        "1           4.9          3.0           1.4          0.2  Iris-setosa\n",
        "2           4.7          3.2           1.3          0.2  Iris-setosa\n",
        "3           4.6          3.1           1.5          0.2  Iris-setosa\n",
        "4           5.0          3.6           1.4          0.2  Iris-setosa"
       ]
      }
     ],
     "prompt_number": 1
    },
    {
     "cell_type": "code",
     "collapsed": false,
     "input": [
      "df.groupby(df.species).petal_length.mean()  # Average petal length per species"
     ],
     "language": "python",
     "metadata": {},
     "outputs": [
      {
       "metadata": {},
       "output_type": "pyout",
       "prompt_number": 5,
       "text": [
        "species\n",
        "Iris-setosa        1.462\n",
        "Iris-versicolor    4.260\n",
        "Iris-virginica     5.552\n",
        "Name: petal_length, dtype: float64"
       ]
      }
     ],
     "prompt_number": 5
    },
    {
     "cell_type": "markdown",
     "metadata": {},
     "source": [
      "If your data fits on your computer then this is probably the way to go, and you can stop reading right now.  \n",
      "\n",
      "From now on, we're going to assume one of the following:\n",
      "\n",
      "1.  You have an inconvenient amount of data\n",
      "2.  That data should live someplace other than your computer"
     ]
    },
    {
     "cell_type": "markdown",
     "metadata": {},
     "source": [
      "Databases and Python\n",
      "--------------------\n",
      "\n",
      "When in-memory arrays/dataframes cease to be an option, we turn to databases.  These live outside of the Python process and so might be less convenient.  The open source Python ecosystem includes libraries to interact with these databases and with foreign data in general.  \n",
      "\n",
      "Examples:\n",
      "\n",
      "* SQL - [`sqlalchemy`](http://sqlalchemy.org) \n",
      "    * Hive/Cassandra - [`pyhive`](https://github.com/dropbox/PyHive)\n",
      "    * Impala  - [`impyla`](https://github.com/cloudera/impyla)\n",
      "    * RedShift - [`redshift-sqlalchemy`](https://pypi.python.org/pypi/redshift-sqlalchemy)\n",
      "    * ...\n",
      "* MongoDB - [`pymongo`](http://api.mongodb.org/python/current/)\n",
      "* HBase - [`happybase`](http://happybase.readthedocs.org/en/latest/)\n",
      "* Spark - [`pyspark`](http://spark.apache.org/docs/latest/api/python/)\n",
      "* SSH - [`paramiko`](http://www.paramiko.org/)\n",
      "* HDFS - [`pywebhdfs`](https://pypi.python.org/pypi/pywebhdfs)\n",
      "* Amazon S3 - [`boto`](https://boto.readthedocs.org/en/latest/)\n",
      "\n",
      "Today we're going to use some of these indirectly with `into` and Blaze.  We'll try to point out these libraries as we automate them so that, if you'd like, you can use them independently."
     ]
    },
    {
     "cell_type": "markdown",
     "metadata": {},
     "source": [
      "Blaze and `into`\n",
      "----------------\n",
      "\n",
      "The Blaze and `into` projects give a consistent interface over many of the libraries above.  They strive to trivialize common tasks.\n",
      "\n",
      "* `into` moves data from place to place and from format to format\n",
      "* `blaze` queries data in databases\n",
      "\n",
      "We're going to start with `into`, learning how to migrate data between formats, between computers, and into databases.  We'll then use Blaze to perform analytic queries on that data."
     ]
    },
    {
     "cell_type": "markdown",
     "metadata": {},
     "source": [
      "Teaser\n",
      "------\n",
      "\n",
      "We'll eventually do things like this\n",
      "\n",
      "```Python\n",
      ">>> from into import into\n",
      ">>> into('hive://hostname/default::iris', 'iris.csv')  # Move local data onto HDFS and register with Hive\n",
      "\n",
      ">>> from blaze import Data, by\n",
      ">>> db = Data('hive://hostname/default')\n",
      ">>> by(db.species, avg=db.petal_length.mean())\n",
      "...\n",
      "```\n",
      "\n",
      "Not a Magic Bullet\n",
      "------------------\n",
      "\n",
      "Blaze and `into` make easy things trivial but are not a replacement for intimate knowledge of your database or for your problem.  These projects are intended to enable non-expert users to do every-day tasks."
     ]
    }
   ],
   "metadata": {}
  }
 ]
}